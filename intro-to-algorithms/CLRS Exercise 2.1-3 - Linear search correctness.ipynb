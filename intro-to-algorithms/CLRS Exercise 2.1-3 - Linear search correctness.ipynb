{
 "cells": [
  {
   "cell_type": "markdown",
   "id": "333f9e09",
   "metadata": {},
   "source": [
    "CLRS Exercise 2.1-3\n",
    "-------------------\n",
    "\n",
    "Consider the searching problem:\n",
    "\n",
    "**Input:** A sequence of n numbers $A = [a_1, a_2, a_3]$ and a value $v$.  \n",
    "**Output:** An index $i$ such that $v = A[i]$ or the special value NIL if $v$ does not appear in A.\n",
    "Write pseudocode for linear search, which scans through the sequence, looking for $v$. Using a loop invariant, prove that your algorithm is correct. Make sure that your loop invariant fulfills the three necessary properties."
   ]
  },
  {
   "cell_type": "markdown",
   "id": "a4a3ed55",
   "metadata": {},
   "source": [
    "** An implementation of the linear search algorithm: **"
   ]
  },
  {
   "cell_type": "code",
   "execution_count": 16,
   "id": "3faaeab9",
   "metadata": {
    "collapsed": false
   },
   "outputs": [],
   "source": [
    "def search(haystack, needle):\n",
    "    for i in range(0, len(haystack) - 1):\n",
    "        if haystack[i] == needle:\n",
    "            return i\n",
    "    return None"
   ]
  },
  {
   "cell_type": "code",
   "execution_count": 17,
   "id": "30bf4a64",
   "metadata": {
    "collapsed": false
   },
   "outputs": [],
   "source": [
    "# Set up an array to search in the tests below\n",
    "haystack = [1, 5, 3, 2, 7, 1]"
   ]
  },
  {
   "cell_type": "code",
   "execution_count": 18,
   "id": "70d3d87c",
   "metadata": {
    "collapsed": false
   },
   "outputs": [
    {
     "data": {
      "text/plain": [
       "True"
      ]
     },
     "execution_count": 18,
     "metadata": {},
     "output_type": "execute_result"
    }
   ],
   "source": [
    "# This value should not be found \n",
    "search(haystack, 4) == None"
   ]
  },
  {
   "cell_type": "code",
   "execution_count": 19,
   "id": "f33b787b",
   "metadata": {
    "collapsed": false
   },
   "outputs": [
    {
     "data": {
      "text/plain": [
       "True"
      ]
     },
     "execution_count": 19,
     "metadata": {},
     "output_type": "execute_result"
    }
   ],
   "source": [
    "# The value '1' should be found at index 0\n",
    "search(haystack, 1) == 0"
   ]
  },
  {
   "cell_type": "markdown",
   "id": "c4713e88",
   "metadata": {},
   "source": [
    "** Proving that the algorithm is correct using a loop invariant: **\n",
    "\n",
    "In order to show that the algorithm is correct using a loop invariant, the following three conditions need to be satisfied:\n",
    "\n",
    "*  Initialisation condition: The loop invariant is true before the algorithm begins\n",
    "*  Maintenance condition: The loop invariant is true before the beginning of each loop iteration\n",
    "*  Termination condition: The loop invariant is true after the completion of the final loop iteration\n",
    "\n",
    "**Loop invariant:**  \n",
    "The array $haystack[0:i]$ does not contain a value equal to $needle$.\n",
    "\n",
    "**Initialisation condition:**  \n",
    "Prior to entering the loop, the value of i is not defined, so the loop invariant holds implicitly.\n",
    "\n",
    "**Maintenance condition:**  \n",
    "Prior to each iteration of the loop, the array slice $haystack[0:i]$ contains all of the values previously examined by the loop. By contradiction, suppose that $haystack[0:i] \\subseteq needle$. Then at the $(i-1)^{th}$ iteration, $needle = haystack[i - 1]$, but this would have caused the loop to be exited.\n",
    "\n",
    "**Termination condition:**  \n",
    "If $haystack \\notin needle$, then the value of $i$ will be equal to the length of the array, thus $haystack[0:i]$ will contain all elements in the array, satisfying the loop invariant. If $haystack \\subseteq needle$, then by the maintenance condition, $haystack[i] = needle$ and $haystack[0:i] \\notin needle$."
   ]
  }
 ],
 "metadata": {},
 "nbformat": 4,
 "nbformat_minor": 5
}
