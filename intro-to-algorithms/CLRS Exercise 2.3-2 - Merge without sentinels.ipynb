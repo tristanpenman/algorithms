{
 "cells": [
  {
   "cell_type": "markdown",
   "id": "88830659",
   "metadata": {},
   "source": [
    "CLRS Exercise 2.3-2\n",
    "-------------------\n",
    "\n",
    "Rewrite the MERGE procedure so that it does not use sentinels, instead stopping \n",
    "once either array L or R has had all its elements copied back to A and then \n",
    "copying the remainder of the other array back into A."
   ]
  },
  {
   "cell_type": "markdown",
   "id": "58182647",
   "metadata": {},
   "source": [
    "** Define some tests that we can use to ensure the merge() function works correctly: **"
   ]
  },
  {
   "cell_type": "code",
   "execution_count": 1,
   "id": "902929d6",
   "metadata": {
    "collapsed": false
   },
   "outputs": [],
   "source": [
    "def test_merge():\n",
    "    \n",
    "    # First test\n",
    "    A = [0, 5, 10, 12, 3, 4, 6, 7]\n",
    "    merge(A, 0, 4, 7)\n",
    "    assert A == [0, 3, 4, 5, 6, 7, 10, 12]\n",
    "    \n",
    "    # Second test\n",
    "    B = [0]\n",
    "    merge(B, 0, 1, 0)\n",
    "    assert B == [0]\n",
    "    \n",
    "    # Third test\n",
    "    C = [1, 0]\n",
    "    merge(C, 0, 1, 1)\n",
    "    assert C == [0, 1]\n",
    "    \n",
    "    print(\"Everything seems to be working.\")\n",
    "    "
   ]
  },
  {
   "cell_type": "markdown",
   "id": "4b00fec3",
   "metadata": {},
   "source": [
    "** merge() function using None as a sentinel value: **"
   ]
  },
  {
   "cell_type": "code",
   "execution_count": 2,
   "id": "9538e1ca",
   "metadata": {
    "collapsed": false
   },
   "outputs": [],
   "source": [
    "def merge(A, p, q, r):\n",
    "    \"\"\" Merge two sorted halves of an array, replacing the contents of the \n",
    "        original. None is used as a sentinel value, so it cannot be used as\n",
    "        an array value.\n",
    "        A = array\n",
    "        p = first index of left half\n",
    "        q = first index of right half\n",
    "        r = last index of right half \"\"\"\n",
    "    L = A[p:q]\n",
    "    L.append(None)\n",
    "    R = A[q:r+1]\n",
    "    R.append(None)\n",
    "    i = 0\n",
    "    j = 0\n",
    "    for k in range(p, r + 1):\n",
    "        if L[i] is not None and (R[j] is None or L[i] <= R[j]):\n",
    "            A[k] = L[i]\n",
    "            i = i + 1\n",
    "        else:\n",
    "            A[k] = R[j]\n",
    "            j = j + 1"
   ]
  },
  {
   "cell_type": "code",
   "execution_count": 3,
   "id": "31406cd2",
   "metadata": {
    "collapsed": false
   },
   "outputs": [
    {
     "name": "stdout",
     "output_type": "stream",
     "text": [
      "Everything seems to be working.\n"
     ]
    }
   ],
   "source": [
    "test_merge()"
   ]
  },
  {
   "cell_type": "markdown",
   "id": "bae40493",
   "metadata": {},
   "source": [
    "** merge() function that does not use a sentinel value: **"
   ]
  },
  {
   "cell_type": "code",
   "execution_count": 4,
   "id": "977f2d82",
   "metadata": {
    "collapsed": false
   },
   "outputs": [],
   "source": [
    "def merge(A, p, q, r):\n",
    "    \"\"\" Merge two sorted halves of an array, replacing the contents of the\n",
    "        original array. This version allows the use of None as an array value.\n",
    "        A = array\n",
    "        p = first index of left half\n",
    "        q = first index of right half\n",
    "        r = last index of right half \"\"\"\n",
    "    L = A[p:q]\n",
    "    R = A[q:r+1]\n",
    "    i = 0\n",
    "    j = 0\n",
    "    # Copy elements from both L and R, until either array is exhausted\n",
    "    while i < len(L) and j < len(R):\n",
    "        if L[i] <= R[j]:\n",
    "            A[i + j] = L[i]\n",
    "            i = i + 1\n",
    "        else:\n",
    "            A[i + j] = R[j]\n",
    "            j = j + 1\n",
    "    # Copy remaining elements, if any, from L into A\n",
    "    while i < len(L):\n",
    "        A[i + j] = L[i]\n",
    "        i = i + 1\n",
    "    # Copy remaining elements, in any, from R into A\n",
    "    while j < len(R):\n",
    "        A[i + j] = R[j]\n",
    "        j = j + 1"
   ]
  },
  {
   "cell_type": "markdown",
   "id": "73ee3d05",
   "metadata": {},
   "source": [
    "** Run the same tests as above to make sure the merge() function works correctly: **"
   ]
  },
  {
   "cell_type": "code",
   "execution_count": 5,
   "id": "f7e650c6",
   "metadata": {
    "collapsed": false
   },
   "outputs": [
    {
     "name": "stdout",
     "output_type": "stream",
     "text": [
      "Everything seems to be working.\n"
     ]
    }
   ],
   "source": [
    "test_merge()"
   ]
  }
 ],
 "metadata": {},
 "nbformat": 4,
 "nbformat_minor": 5
}
