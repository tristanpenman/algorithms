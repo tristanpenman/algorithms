{
 "cells": [
  {
   "cell_type": "markdown",
   "id": "d55c9b99",
   "metadata": {},
   "source": [
    "CLRS Exercise 2.3-4\n",
    "-------------------\n",
    "\n",
    "We can express insertion sort as a recursive procedure as follows. In order to sort A[1..n], we recursively sort A[1..n-1] and then insert A[n] into the sorted array A[1..n-1]. Write a recurrence for the running time of this recursive version of insertion sort."
   ]
  },
  {
   "cell_type": "markdown",
   "id": "03f08e85",
   "metadata": {},
   "source": [
    "**This is actually pretty simple:**\n",
    "\n",
    "\\begin{aligned}\n",
    "T(n) =\n",
    "  \\begin{cases}\n",
    "    \\theta(1) & n = 1, \\\\\n",
    "    T(n-1) + \\theta(n) & n > 1\n",
    "  \\end{cases} \n",
    "\\end{aligned}\n",
    "\n",
    "**It is worth verifying this by quickly prototyping the algorithm:**\n",
    "\n",
    "Intuitively, we can see that when recursive_insertion_sort() is passed an array $A$ with just one element, the array is trivially sorted. However, when the array contains more than 1 element, we first call recursive_insertion_sort() with an array containing all but the last element $c$ of the array $A$. We then take the returned array $B$ and find an appropriate position in the array for the element $c$."
   ]
  },
  {
   "cell_type": "code",
   "execution_count": 7,
   "id": "9fd7b9e3",
   "metadata": {
    "collapsed": false
   },
   "outputs": [],
   "source": [
    "def recursive_insertion_sort(A):\n",
    "    if len(A) == 1:\n",
    "        return A\n",
    "    else:\n",
    "        B = recursive_insertion_sort(A[0:-1])\n",
    "        c = A[-1]\n",
    "        for i in range(0, len(B)):\n",
    "            if B[i] > c:\n",
    "                B.insert(i, c)\n",
    "                return B\n",
    "        B.append(c)\n",
    "        return B\n",
    "        "
   ]
  },
  {
   "cell_type": "markdown",
   "id": "e0ac966d",
   "metadata": {},
   "source": [
    "**A non-exhaustive test to verify that it works:**"
   ]
  },
  {
   "cell_type": "code",
   "execution_count": 13,
   "id": "15a46781",
   "metadata": {
    "collapsed": false
   },
   "outputs": [
    {
     "data": {
      "text/plain": [
       "True"
      ]
     },
     "execution_count": 13,
     "metadata": {},
     "output_type": "execute_result"
    }
   ],
   "source": [
    "recursive_insertion_sort([4, 1, 9, 6, 6]) == [1, 4, 6, 6, 9]"
   ]
  }
 ],
 "metadata": {},
 "nbformat": 4,
 "nbformat_minor": 5
}
