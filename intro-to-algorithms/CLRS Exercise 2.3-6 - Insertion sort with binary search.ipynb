{
 "cells": [
  {
   "cell_type": "markdown",
   "id": "5c556019",
   "metadata": {},
   "source": [
    "CLRS Exercise 2.3-6\n",
    "-------------------\n",
    "\n",
    "Observe that the while loop of lines 5–7 of the INSERTION-SORT procedure in Section 2.1 uses a linear search to scan (backward) through the sorted subarray $A[1..k-1]$. Can we use a binary search (see Exercise 2.3-5) instead to improve the overall worst-case running time of insertion sort to $\\theta(n\\ lg\\ n)$?"
   ]
  },
  {
   "cell_type": "markdown",
   "id": "8f1c73bd",
   "metadata": {},
   "source": [
    "**Start off by coding up the insertion sort algorithm as described in text:**\n",
    "\n",
    "I've commented this implementation quite thoroughly, as I made a few mistakes in my initial implementation, and want to be sure that I have 'internalised' the algorithm."
   ]
  },
  {
   "cell_type": "code",
   "execution_count": 32,
   "id": "e6541110",
   "metadata": {
    "collapsed": false
   },
   "outputs": [],
   "source": [
    "def insertion_sort(A):\n",
    "     # Dont need to process the first element since it is implicitly sorted\n",
    "    for i in range(1, len(A)):\n",
    "        # Get key, since the element containing this value may be overwritten\n",
    "        k = A[i]\n",
    "        # Get index of the last element in the sorted part of the array\n",
    "        j = i - 1\n",
    "        # Move any element in the sorted part of the array that is \n",
    "        # greater than k to the right\n",
    "        while j >= 0 and A[j] > k:\n",
    "            A[j + 1] = A[j]\n",
    "            j -= 1\n",
    "        # The final value of j will be the index of the first \n",
    "        # element lesser than k, or -1 if there is no such element\n",
    "        A[j + 1] = k  \n",
    "    return A"
   ]
  },
  {
   "cell_type": "code",
   "execution_count": 35,
   "id": "24444bb4",
   "metadata": {
    "collapsed": false
   },
   "outputs": [
    {
     "data": {
      "text/plain": [
       "True"
      ]
     },
     "execution_count": 35,
     "metadata": {},
     "output_type": "execute_result"
    }
   ],
   "source": [
    "insertion_sort([23, 10, 1, 20, 2, 3, -2]) == [-2, 1, 2, 3, 10, 20, 23]"
   ]
  },
  {
   "cell_type": "markdown",
   "id": "75833553",
   "metadata": {},
   "source": [
    "**Analysis:**\n",
    "\n",
    "Looking at this algorithm, it is obvious that inner loop both locates the correct position for a value $A[i]$, and also performs the necessary copy operations to make space in the array for the value. Using binary search to locate the correct position for the value $A[i]$ is possible, but it will not negate the need to insert the value into the sorted part of the array, therefore it will not reduce the worst-case running time of the algorithm from $\\theta(n^2)$."
   ]
  }
 ],
 "metadata": {},
 "nbformat": 4,
 "nbformat_minor": 5
}
