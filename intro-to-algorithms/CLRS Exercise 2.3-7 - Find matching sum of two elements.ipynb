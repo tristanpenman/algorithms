{
 "cells": [
  {
   "cell_type": "markdown",
   "id": "6e1a657b",
   "metadata": {},
   "source": [
    "CLRS Exercise 2.3-7 *\n",
    "-------------------\n",
    "\n",
    "Describe a $\\theta(n\\ lg\\ n)$-time algorithm that, given a set S of n integers and another integer x, determines whether or not there exist two elements in S whose sum is exactly x."
   ]
  },
  {
   "cell_type": "markdown",
   "id": "7a95d6ce",
   "metadata": {},
   "source": [
    "**Initial implementation:**\n",
    "\n",
    "This algorithm uses the fact that sorting the array A can be done in $\\theta(n\\ log\\ n)$, while performing a binary search can be done in $\\theta(lg\\ n)$. Since we need to perform a binary search for each element in the sorted array, the total running time is:\n",
    "\n",
    "\\begin{aligned}\n",
    "T(n) & = \\theta(n\\ log\\ n) + n \\cdot \\theta(lg\\ n) \\\\\n",
    "     & = \\theta(n\\ log\\ n) + \\theta(n\\ log\\ n) \\\\\n",
    "     & = \\theta(n\\ lg\\ n)\n",
    "\\end{aligned}"
   ]
  },
  {
   "cell_type": "code",
   "execution_count": 59,
   "id": "9494f8b6",
   "metadata": {
    "collapsed": false
   },
   "outputs": [],
   "source": [
    "from math import floor\n",
    "\n",
    "def find_sum_bsearch(B, first, last, value):\n",
    "    # Only calculate and examine the mid-point if there is more \n",
    "    # than one element in the array\n",
    "    if last > first:\n",
    "        mid = floor((first + last) / 2)\n",
    "        if value == B[mid]:\n",
    "            return True\n",
    "        elif value < B[mid]:\n",
    "            return find_sum_bsearch(B, 0, mid - 1, value)\n",
    "        else:\n",
    "            return find_sum_bsearch(B, mid + 1, last, value)\n",
    "    return B[first] == value\n",
    "        \n",
    "def find_sum(A, s):\n",
    "    B = sorted(A)\n",
    "    B_len = len(B)\n",
    "    for i in range(0, B_len):\n",
    "        # Begin binary search on the half of the sorted array\n",
    "        # that might contain the element we are looking for.\n",
    "        # If the value of the complement is equal to the value\n",
    "        # of the current element, we have to search both halves.\n",
    "        current = B[i]\n",
    "        complement = s - current\n",
    "        # We have to make sure that we do not include the current\n",
    "        # element in the search.\n",
    "        if complement <= current and i > 0:\n",
    "            # Search bottom half\n",
    "            if find_sum_bsearch(B, 0, i - 1, complement):\n",
    "                return True\n",
    "        if complement >= current and i < B_len - 1:\n",
    "            # Search top half\n",
    "            if find_sum_bsearch(B, i + 1, B_len - 1, complement):\n",
    "                return True\n",
    "    return False"
   ]
  },
  {
   "cell_type": "markdown",
   "id": "35673478",
   "metadata": {},
   "source": [
    "Sanity checks:"
   ]
  },
  {
   "cell_type": "code",
   "execution_count": 60,
   "id": "8f71e843",
   "metadata": {
    "collapsed": false
   },
   "outputs": [
    {
     "data": {
      "text/plain": [
       "True"
      ]
     },
     "execution_count": 60,
     "metadata": {},
     "output_type": "execute_result"
    }
   ],
   "source": [
    "A = [0, 4, 2, 1, -3, 6, 3, 5]\n",
    "find_sum(A, 5) == True"
   ]
  },
  {
   "cell_type": "code",
   "execution_count": 61,
   "id": "22d597b3",
   "metadata": {
    "collapsed": false
   },
   "outputs": [
    {
     "data": {
      "text/plain": [
       "True"
      ]
     },
     "execution_count": 61,
     "metadata": {},
     "output_type": "execute_result"
    }
   ],
   "source": [
    "find_sum(A, 12) == False"
   ]
  },
  {
   "cell_type": "code",
   "execution_count": 62,
   "id": "7f75e4bb",
   "metadata": {
    "collapsed": false
   },
   "outputs": [
    {
     "data": {
      "text/plain": [
       "True"
      ]
     },
     "execution_count": 62,
     "metadata": {},
     "output_type": "execute_result"
    }
   ],
   "source": [
    "A = [1]\n",
    "find_sum(A, 1) == False"
   ]
  },
  {
   "cell_type": "code",
   "execution_count": 63,
   "id": "bf6bbe59",
   "metadata": {
    "collapsed": false
   },
   "outputs": [
    {
     "data": {
      "text/plain": [
       "True"
      ]
     },
     "execution_count": 63,
     "metadata": {},
     "output_type": "execute_result"
    }
   ],
   "source": [
    "A = []\n",
    "find_sum(A, 0) == False"
   ]
  },
  {
   "cell_type": "code",
   "execution_count": 64,
   "id": "ab38d26c",
   "metadata": {
    "collapsed": false
   },
   "outputs": [
    {
     "data": {
      "text/plain": [
       "True"
      ]
     },
     "execution_count": 64,
     "metadata": {},
     "output_type": "execute_result"
    }
   ],
   "source": [
    "A = [1, 2]\n",
    "find_sum(A, 2) == False"
   ]
  }
 ],
 "metadata": {},
 "nbformat": 4,
 "nbformat_minor": 5
}
