{
 "cells": [
  {
   "cell_type": "code",
   "execution_count": null,
   "id": "d3c06987",
   "metadata": {
    "collapsed": false
   },
   "outputs": [],
   "source": []
  }
 ],
 "metadata": {},
 "nbformat": 4,
 "nbformat_minor": 5
}
