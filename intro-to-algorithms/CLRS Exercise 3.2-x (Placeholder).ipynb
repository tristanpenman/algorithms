{
 "cells": [
  {
   "cell_type": "code",
   "execution_count": null,
   "id": "59d8c804",
   "metadata": {
    "collapsed": false
   },
   "outputs": [],
   "source": []
  }
 ],
 "metadata": {},
 "nbformat": 4,
 "nbformat_minor": 5
}
