{
 "cells": [
  {
   "cell_type": "markdown",
   "id": "534a38b0",
   "metadata": {},
   "source": [
    "CLRS Exercise 4.1-2\n",
    "-------------------\n",
    "\n",
    "Write pseudocode for the brute-force method of solving the maximum-subarray problem. Your procedure should run in $\\theta(n^2)$ time.\n",
    "\n",
    "**Implementation:**"
   ]
  },
  {
   "cell_type": "code",
   "execution_count": 24,
   "id": "187c3f5e",
   "metadata": {
    "collapsed": false
   },
   "outputs": [],
   "source": [
    "def brute_force_max_subarray(A, first, last):\n",
    "    best_first = None\n",
    "    best_last = None\n",
    "    best_sum = None\n",
    "    for i in range(first, last + 1):\n",
    "        sum = 0\n",
    "        for j in range(i, last + 1):\n",
    "            sum = sum + A[j]\n",
    "            if best_sum is None or sum > best_sum:\n",
    "                best_first = i\n",
    "                best_last = j\n",
    "                best_sum = sum\n",
    "    return {'first': best_first, 'last': best_last, 'sum': best_sum}\n"
   ]
  },
  {
   "cell_type": "markdown",
   "id": "d534e6aa",
   "metadata": {},
   "source": [
    "**Test data:**"
   ]
  },
  {
   "cell_type": "code",
   "execution_count": 25,
   "id": "5cdc2820",
   "metadata": {
    "collapsed": false
   },
   "outputs": [],
   "source": [
    "A = [2, -1, 3, 4, -2, 6, 3, -1, -14, -2, 10, 1, 20, 3, -3, -4, 3]"
   ]
  },
  {
   "cell_type": "code",
   "execution_count": 26,
   "id": "e61aba79",
   "metadata": {
    "collapsed": false
   },
   "outputs": [
    {
     "data": {
      "text/plain": [
       "{'first': 10, 'last': 13, 'sum': 34}"
      ]
     },
     "execution_count": 26,
     "metadata": {},
     "output_type": "execute_result"
    }
   ],
   "source": [
    "brute_force_max_subarray(A, 0, len(A) - 1)"
   ]
  },
  {
   "cell_type": "markdown",
   "id": "e9c1ce43",
   "metadata": {},
   "source": [
    "**And another test case:**\n",
    "    \n",
    "This particular test case revealed a bug in my initial implementation, where the inner loop failed to identify maximum subarrays containing just one element."
   ]
  },
  {
   "cell_type": "code",
   "execution_count": 27,
   "id": "840e0123",
   "metadata": {
    "collapsed": false
   },
   "outputs": [],
   "source": [
    "B = [-1, 34]"
   ]
  },
  {
   "cell_type": "code",
   "execution_count": 28,
   "id": "802d5576",
   "metadata": {
    "collapsed": false
   },
   "outputs": [
    {
     "data": {
      "text/plain": [
       "{'first': 1, 'last': 1, 'sum': 34}"
      ]
     },
     "execution_count": 28,
     "metadata": {},
     "output_type": "execute_result"
    }
   ],
   "source": [
    "brute_force_max_subarray(B, 0, len(B) - 1)"
   ]
  }
 ],
 "metadata": {},
 "nbformat": 4,
 "nbformat_minor": 5
}
