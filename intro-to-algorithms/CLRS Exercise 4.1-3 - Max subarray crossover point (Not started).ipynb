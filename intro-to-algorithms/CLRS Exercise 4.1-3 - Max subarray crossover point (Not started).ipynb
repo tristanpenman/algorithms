{
 "cells": [
  {
   "cell_type": "markdown",
   "id": "c9183f26",
   "metadata": {},
   "source": [
    "CLRS Exercise 4.1-3\n",
    "-------------------\n",
    "\n",
    "Implement both the brute-force and recursive algorithms for the maximum- subarray problem on your own computer. What problem size $n_0$ gives the crossover point at which the recursive algorithm beats the brute-force algorithm? Then, change the base case of the recursive algorithm to use the brute-force algorithm whenever the problem size is less than $n_0$. Does that change the crossover point?"
   ]
  },
  {
   "cell_type": "code",
   "execution_count": null,
   "id": "da3bfdbd",
   "metadata": {
    "collapsed": false
   },
   "outputs": [],
   "source": []
  }
 ],
 "metadata": {},
 "nbformat": 4,
 "nbformat_minor": 5
}
