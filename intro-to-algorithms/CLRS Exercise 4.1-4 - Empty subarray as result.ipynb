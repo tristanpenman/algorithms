{
 "cells": [
  {
   "cell_type": "markdown",
   "id": "34fadb81",
   "metadata": {},
   "source": [
    "CLRS Exercise 4.1-4\n",
    "-------------------\n",
    "\n",
    "Suppose we change the definition of the maximum-subarray problem to allow the result to be an empty subarray, where the sum of the values of an empty subarray is 0. How would you change any of the algorithms that do not allow empty subarrays to permit an empty subarray to be the result?\n",
    "\n",
    "**Discussion:**\n",
    "\n",
    "The easiest way to add support for empty subarrays to any of the implementations is to check, and possibly alter, the maximum subarray before returning the result. If the subarray contains a single negative number, then it should be replaced by an empty subarray, which in Python could be represented by indices with the value 'None'.\n",
    "\n",
    "Of course, each implementation could integrate this more efficiently. The linear time algorithm, for example, can be modified to support empty subarrays by treating zero as the minimum sum of a maximum subarray. If a subarray summing to zero is found, then the indices returned should be the value 'None'.\n",
    "\n",
    "**For example:**"
   ]
  },
  {
   "cell_type": "code",
   "execution_count": 5,
   "id": "253eb6c7",
   "metadata": {
    "collapsed": false
   },
   "outputs": [],
   "source": [
    "def max_subarray(A):\n",
    "    \n",
    "    # Keep track of the sum and indices for the best subarray\n",
    "    # seen so far\n",
    "    best_so_far = 0\n",
    "    best_so_far_left = None\n",
    "    best_so_far_right = None\n",
    "    \n",
    "    # Keep track of the sum and left-most index for the best \n",
    "    # subarray ending at the current position\n",
    "    best_here = None\n",
    "    best_here_left = None\n",
    "    \n",
    "    for i in range(0, len(A)):\n",
    "        x = A[i]\n",
    "        \n",
    "        # If there is not currently a best subarray ending at\n",
    "        # the current index, or the elements in the subarray\n",
    "        # do not sum to a positive number, then reset the\n",
    "        # subarray.\n",
    "        if best_here is None or best_here <= 0:\n",
    "            best_here = 0\n",
    "            best_here_left = i\n",
    "        \n",
    "        # Add the current element to the running total for\n",
    "        # the best subarray ending at the current index\n",
    "        best_here += x\n",
    "        \n",
    "        # If we currently have a subarray, and it is better than the\n",
    "        # best so far, replace the best so far.\n",
    "        if best_here > best_so_far:\n",
    "            best_so_far = best_here\n",
    "            best_so_far_left = best_here_left\n",
    "            best_so_far_right = i\n",
    "            \n",
    "    if best_so_far == 0:\n",
    "        best_so_far_left = None\n",
    "        best_so_far_right = None\n",
    "            \n",
    "    return {'left': best_so_far_left, 'right': best_so_far_right, 'sum': best_so_far}"
   ]
  },
  {
   "cell_type": "markdown",
   "id": "dca865d6",
   "metadata": {},
   "source": [
    "**Sanity check:**"
   ]
  },
  {
   "cell_type": "code",
   "execution_count": 10,
   "id": "9d18c768",
   "metadata": {
    "collapsed": false
   },
   "outputs": [
    {
     "data": {
      "text/plain": [
       "{'left': 10, 'right': 13, 'sum': 34}"
      ]
     },
     "execution_count": 10,
     "metadata": {},
     "output_type": "execute_result"
    }
   ],
   "source": [
    "A = [2, -1, 3, 4, -2, 6, 3, -1, -14, -2, 10, 1, 20, 3, -3, -4, 3]\n",
    "max_subarray(A)"
   ]
  },
  {
   "cell_type": "code",
   "execution_count": 9,
   "id": "18397903",
   "metadata": {
    "collapsed": false
   },
   "outputs": [
    {
     "data": {
      "text/plain": [
       "{'left': None, 'right': None, 'sum': 0}"
      ]
     },
     "execution_count": 9,
     "metadata": {},
     "output_type": "execute_result"
    }
   ],
   "source": [
    "A = [-1, 0, -1]\n",
    "max_subarray(A)"
   ]
  }
 ],
 "metadata": {},
 "nbformat": 4,
 "nbformat_minor": 5
}
