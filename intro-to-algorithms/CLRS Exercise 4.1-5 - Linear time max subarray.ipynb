{
 "cells": [
  {
   "cell_type": "markdown",
   "metadata": {},
   "source": [
    "CLRS Exercise 4.1-5\n",
    "-------------------\n",
    "\n",
    "Use the following ideas to develop a nonrecursive, linear-time algorithm for the maximum-subarray problem. Start at the left end of the array, and progress toward the right, keeping track of the maximum subarray seen so far. Knowing a maximum subarray of $A[1..j]$ extend the answer to find a maximum subarray ending at index $j + 1$ by using the following observation: a maximum subarray of $A[1..j+1]$ is either a maximum subarray of $A[1..j]$ or a subarray $A[i..j+1]$, for some $1 \\lt i \\lt j + 1$. Determine a maximum subarray of the form $A[i..j+1]$ in constant time based on knowing a maximum subarray ending at index $j$."
   ]
  },
  {
   "cell_type": "code",
   "execution_count": 40,
   "metadata": {},
   "outputs": [],
   "source": [
    "def max_subarray(A):\n",
    "    \n",
    "    # Keep track of the sum and indices for the best subarray\n",
    "    # seen so far\n",
    "    best_so_far = None\n",
    "    best_so_far_left = None\n",
    "    best_so_far_right = None\n",
    "    \n",
    "    # Keep track of the sum and left-most index for the best \n",
    "    # subarray ending at the current position\n",
    "    best_here = None\n",
    "    best_here_left = None\n",
    "    \n",
    "    for i in range(0, len(A)):\n",
    "        x = A[i]\n",
    "        \n",
    "        # If there is not currently a best subarray ending at\n",
    "        # the current index, or the elements in the subarray\n",
    "        # do not sum to a positive number, then reset the\n",
    "        # subarray.\n",
    "        if best_here is None or best_here <= 0:\n",
    "            best_here = 0\n",
    "            best_here_left = i\n",
    "        \n",
    "        # Add the current element to the running total for\n",
    "        # the best subarray ending at the current index\n",
    "        best_here += x\n",
    "        \n",
    "        # If we currently have a subarray, and it is better than the\n",
    "        # best so far, replace the best so far.\n",
    "        if best_so_far is None or best_here > best_so_far:\n",
    "            best_so_far = best_here\n",
    "            best_so_far_left = best_here_left\n",
    "            best_so_far_right = i\n",
    "            \n",
    "    return {'left': best_so_far_left, 'right': best_so_far_right, 'sum': best_so_far}"
   ]
  },
  {
   "cell_type": "markdown",
   "metadata": {},
   "source": [
    "**Sanity check**:"
   ]
  },
  {
   "cell_type": "code",
   "execution_count": 47,
   "metadata": {},
   "outputs": [],
   "source": [
    "A = [2, -1, 3, 4, -2, 6, 3, -1, -14, -2, 10, 1, 20, 3, -3, -4, 3]"
   ]
  },
  {
   "cell_type": "code",
   "execution_count": 48,
   "metadata": {},
   "outputs": [
    {
     "data": {
      "text/plain": [
       "{'left': 10, 'right': 13, 'sum': 34}"
      ]
     },
     "execution_count": 48,
     "metadata": {},
     "output_type": "execute_result"
    }
   ],
   "source": [
    "max_subarray(A)"
   ]
  },
  {
   "cell_type": "markdown",
   "metadata": {},
   "source": [
    "**Check for graceful handling of an empty array:**"
   ]
  },
  {
   "cell_type": "code",
   "execution_count": 21,
   "metadata": {},
   "outputs": [],
   "source": [
    "A = []"
   ]
  },
  {
   "cell_type": "code",
   "execution_count": 22,
   "metadata": {},
   "outputs": [
    {
     "data": {
      "text/plain": [
       "{'left': None, 'right': None, 'sum': None}"
      ]
     },
     "execution_count": 22,
     "metadata": {},
     "output_type": "execute_result"
    }
   ],
   "source": [
    "max_subarray(A)"
   ]
  },
  {
   "cell_type": "markdown",
   "metadata": {},
   "source": [
    "**And check for the correct handling of arrays containing just negative numbers:**"
   ]
  },
  {
   "cell_type": "code",
   "execution_count": 23,
   "metadata": {},
   "outputs": [],
   "source": [
    "A = [-2, -1]\n",
    "B = [-1, -2]"
   ]
  },
  {
   "cell_type": "code",
   "execution_count": 24,
   "metadata": {},
   "outputs": [
    {
     "data": {
      "text/plain": [
       "{'left': 1, 'right': 1, 'sum': -1}"
      ]
     },
     "execution_count": 24,
     "metadata": {},
     "output_type": "execute_result"
    }
   ],
   "source": [
    "max_subarray(A)"
   ]
  },
  {
   "cell_type": "code",
   "execution_count": 25,
   "metadata": {},
   "outputs": [
    {
     "data": {
      "text/plain": [
       "{'left': 0, 'right': 0, 'sum': -1}"
      ]
     },
     "execution_count": 25,
     "metadata": {},
     "output_type": "execute_result"
    }
   ],
   "source": [
    "max_subarray(B)"
   ]
  }
 ],
 "metadata": {
  "kernelspec": {
   "display_name": "Python 3",
   "language": "python",
   "name": "python3"
  },
  "language_info": {
   "codemirror_mode": {
    "name": "ipython",
    "version": 3
   },
   "file_extension": ".py",
   "mimetype": "text/x-python",
   "name": "python",
   "nbconvert_exporter": "python",
   "pygments_lexer": "ipython3",
   "version": "3.6.4"
  }
 },
 "nbformat": 4,
 "nbformat_minor": 1
}
