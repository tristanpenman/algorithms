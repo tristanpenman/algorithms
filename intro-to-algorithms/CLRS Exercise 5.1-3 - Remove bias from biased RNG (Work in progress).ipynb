{
 "cells": [
  {
   "cell_type": "markdown",
   "id": "15d90a6f",
   "metadata": {},
   "source": [
    "CLRS Exercise 5.1-3\n",
    "-------------------\n",
    "\n",
    "Suppose that you want to output 0 with probability 1/2 and 1 with probability 1/2. At your disposal is a procedure BIASED-RANDOM, that outputs either 0 or 1. It outputs 1 with some probability p and 0 with probability 1 - p, where 0 < p < 1, but you do not know what p is. Give an algorithm that uses BIASED-RANDOM as a subroutine, and returns an unbiased answer, returning 0 with probability 1/2 and 1 with probability 1/2. What is the expected running time of your algorithm as a function of p?\n",
    "\n",
    "**We will start by defining the biased_random function:**"
   ]
  },
  {
   "cell_type": "code",
   "execution_count": 84,
   "id": "d7bdced6",
   "metadata": {
    "collapsed": false
   },
   "outputs": [],
   "source": [
    "from random import uniform\n",
    "\n",
    "def biased_random(p):\n",
    "    if uniform(0, 1) <= p:\n",
    "        return 0\n",
    "    else:\n",
    "        return 1"
   ]
  },
  {
   "cell_type": "markdown",
   "id": "2d45af24",
   "metadata": {},
   "source": [
    "Make sure the function is as biased as we want it to be:"
   ]
  },
  {
   "cell_type": "code",
   "execution_count": 85,
   "id": "47465804",
   "metadata": {
    "collapsed": false
   },
   "outputs": [],
   "source": [
    "tally = [0, 0]\n",
    "for i in range(0, 1000):\n",
    "    tally[biased_random(0.75)] += 1"
   ]
  },
  {
   "cell_type": "markdown",
   "id": "69e65791",
   "metadata": {},
   "source": [
    "The results should be approximately [250, 750]:"
   ]
  },
  {
   "cell_type": "code",
   "execution_count": 86,
   "id": "9ec2d6b5",
   "metadata": {
    "collapsed": false
   },
   "outputs": [
    {
     "name": "stdout",
     "output_type": "stream",
     "text": [
      "[745, 255]\n"
     ]
    }
   ],
   "source": [
    "print(tally)"
   ]
  },
  {
   "cell_type": "markdown",
   "id": "f9f839dd",
   "metadata": {},
   "source": [
    "**Now we can define the unbiased_random function, that depends on biased_random.**\n",
    "\n",
    "This function exploits the fact that $pr(0,1) = pr(1,0)$. The biased_random function is called twice, to yield two random numbers. If the values are both 1 or both 0, then they will be discarded and the draw will be repeated. Otherwise, the value of the first draw will be returned. "
   ]
  },
  {
   "cell_type": "code",
   "execution_count": 90,
   "id": "0cde6f42",
   "metadata": {
    "collapsed": false
   },
   "outputs": [],
   "source": [
    "from random import randint\n",
    "\n",
    "def unbiased_random(bias):\n",
    "    a = 0\n",
    "    b = 0\n",
    "    while a == b:\n",
    "        a = biased_random(bias)\n",
    "        b = biased_random(bias)\n",
    "    return a"
   ]
  },
  {
   "cell_type": "markdown",
   "id": "8062b91a",
   "metadata": {},
   "source": [
    "Make sure the function is as UN-biased as we want it to be:"
   ]
  },
  {
   "cell_type": "code",
   "execution_count": 91,
   "id": "674957ee",
   "metadata": {
    "collapsed": false
   },
   "outputs": [],
   "source": [
    "tally = [0, 0]\n",
    "for i in range(0, 1000):\n",
    "    tally[unbiased_random(0.23)] += 1"
   ]
  },
  {
   "cell_type": "markdown",
   "id": "20d573b4",
   "metadata": {},
   "source": [
    "The results should be approximately [500, 500]:"
   ]
  },
  {
   "cell_type": "code",
   "execution_count": 92,
   "id": "4e7925d4",
   "metadata": {
    "collapsed": false
   },
   "outputs": [
    {
     "name": "stdout",
     "output_type": "stream",
     "text": [
      "[483, 517]\n"
     ]
    }
   ],
   "source": [
    "print(tally)"
   ]
  },
  {
   "cell_type": "markdown",
   "id": "eb8c568a",
   "metadata": {},
   "source": [
    "**What is the expected running time in terms of p?**\n",
    "\n",
    "- Needs to account for repetitions due to 0,0 or 1,1 results, which will likely depend on p. "
   ]
  }
 ],
 "metadata": {},
 "nbformat": 4,
 "nbformat_minor": 5
}
