{
 "cells": [
  {
   "cell_type": "markdown",
   "id": "56798a64",
   "metadata": {},
   "source": [
    "CLRS Exercise 6.2-2\n",
    "-------------------\n",
    "\n",
    "Starting with the procedure MAX-HEAPIFY, write pseudocode for the procedure MIN-HEAPIFY(A, i), which performs the corresponding manipulation on a min-heap. How does the running time of MIN-HEAPIFY compare to that of MAX-HEAPIFY?\n",
    "\n",
    "**Definition of the MAX-HEAPIFY and BUILD-MAX-HEAP algorithms from Chapter 6:**"
   ]
  },
  {
   "cell_type": "code",
   "execution_count": 59,
   "id": "95408f29",
   "metadata": {
    "collapsed": false
   },
   "outputs": [],
   "source": [
    "from math import floor\n",
    "\n",
    "def left(i):\n",
    "    return 2 * i + 1\n",
    "\n",
    "def right(i):\n",
    "    return 2 * i + 2\n",
    "\n",
    "def max_heapify(A, heap_size, i):\n",
    "    l = left(i)\n",
    "    r = right(i)\n",
    "    largest = i\n",
    "    if l < heap_size and A[l] > A[i]:\n",
    "        largest = l\n",
    "    if r < heap_size and A[r] > A[largest]:\n",
    "        largest = r\n",
    "    if largest != i:\n",
    "        t = A[largest]\n",
    "        A[largest] = A[i]\n",
    "        A[i] = t\n",
    "        max_heapify(A, heap_size, largest)\n",
    "        \n",
    "def build_max_heap(A):\n",
    "    heap_size = len(A)\n",
    "    for i in range(floor(heap_size / 2), -1, -1):\n",
    "        max_heapify(A, heap_size, i)"
   ]
  },
  {
   "cell_type": "markdown",
   "id": "251e8361",
   "metadata": {},
   "source": [
    "**Sanity check for build_max_heap:**"
   ]
  },
  {
   "cell_type": "code",
   "execution_count": 62,
   "id": "9848f184",
   "metadata": {
    "collapsed": false
   },
   "outputs": [
    {
     "data": {
      "text/plain": [
       "True"
      ]
     },
     "execution_count": 62,
     "metadata": {},
     "output_type": "execute_result"
    }
   ],
   "source": [
    "A = [2, 5, 10, 3, 4]\n",
    "build_max_heap(A)\n",
    "A == [10, 5, 2, 3, 4]"
   ]
  },
  {
   "cell_type": "markdown",
   "id": "91068efe",
   "metadata": {},
   "source": [
    "**Definition of MIN-HEAPIFY and BUILD-MIN-HEAP:**"
   ]
  },
  {
   "cell_type": "code",
   "execution_count": 66,
   "id": "c96c7b65",
   "metadata": {
    "collapsed": false
   },
   "outputs": [],
   "source": [
    "def min_heapify(A, heap_size, i):\n",
    "    l = left(i)\n",
    "    r = right(i)\n",
    "    largest = i\n",
    "    if l < heap_size and A[l] < A[i]:\n",
    "        largest = l\n",
    "    if r < heap_size and A[r] < A[largest]:\n",
    "        largest = r\n",
    "    if largest != i:\n",
    "        t = A[largest]\n",
    "        A[largest] = A[i]\n",
    "        A[i] = t\n",
    "        max_heapify(A, heap_size, largest)\n",
    "        \n",
    "def build_min_heap(A):\n",
    "    heap_size = len(A)\n",
    "    for i in range(floor(heap_size / 2), -1, -1):\n",
    "        min_heapify(A, heap_size, i)        "
   ]
  },
  {
   "cell_type": "markdown",
   "id": "a3ad2db5",
   "metadata": {},
   "source": [
    "**Sanity check:**"
   ]
  },
  {
   "cell_type": "code",
   "execution_count": 68,
   "id": "e1824817",
   "metadata": {
    "collapsed": false
   },
   "outputs": [
    {
     "data": {
      "text/plain": [
       "True"
      ]
     },
     "execution_count": 68,
     "metadata": {},
     "output_type": "execute_result"
    }
   ],
   "source": [
    "A = [2, 5, 10, 3, 4]\n",
    "build_min_heap(A)\n",
    "A == [2, 3, 10, 5, 4]"
   ]
  },
  {
   "cell_type": "markdown",
   "id": "6879eafe",
   "metadata": {},
   "source": [
    "**Comparison of running times:**\n",
    "\n",
    "MIN-HEAPIFY will have the same running time as MAX-HEAPIFY, as both orderings are essentially arbitrary.\n"
   ]
  }
 ],
 "metadata": {},
 "nbformat": 4,
 "nbformat_minor": 5
}
