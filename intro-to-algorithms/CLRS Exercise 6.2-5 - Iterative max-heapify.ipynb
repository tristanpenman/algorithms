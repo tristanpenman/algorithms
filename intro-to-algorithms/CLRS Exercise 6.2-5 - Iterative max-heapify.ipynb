{
 "cells": [
  {
   "cell_type": "markdown",
   "id": "9e876b22",
   "metadata": {},
   "source": [
    "CLRS Exercise 6.2-5\n",
    "-------------------\n",
    "\n",
    "The code for MAX-HEAPIFY is quite efficient in terms of constant factors, except possibly for the recursive call in line 10, which might cause some compilers to produce inefficient code. Write an efficient MAX-HEAPIFY that uses an iterative control construct (a loop) instead of recursion."
   ]
  },
  {
   "cell_type": "markdown",
   "id": "f1f952f5",
   "metadata": {},
   "source": [
    "**This only requires some minor changes to the implementation of max_heapify from exercise 6.2-2:**"
   ]
  },
  {
   "cell_type": "code",
   "execution_count": 1,
   "id": "8aa61641",
   "metadata": {
    "collapsed": false
   },
   "outputs": [],
   "source": [
    "from math import floor\n",
    "\n",
    "def left(i):\n",
    "    return 2 * i + 1\n",
    "\n",
    "def right(i):\n",
    "    return 2 * i + 2\n",
    "\n",
    "def iterative_max_heapify(A, heap_size, i):\n",
    "    while True:\n",
    "        l = left(i)\n",
    "        r = right(i)\n",
    "        largest = i\n",
    "        if l < heap_size and A[l] > A[i]:\n",
    "            largest = l\n",
    "        if r < heap_size and A[r] > A[largest]:\n",
    "            largest = r\n",
    "        if largest == i:\n",
    "            break\n",
    "        t = A[largest]\n",
    "        A[largest] = A[i]\n",
    "        A[i] = t\n",
    "        i = largest\n",
    "        \n",
    "def build_max_heap(A):\n",
    "    heap_size = len(A)\n",
    "    for i in range(floor(heap_size / 2), -1, -1):\n",
    "        iterative_max_heapify(A, heap_size, i)"
   ]
  },
  {
   "cell_type": "markdown",
   "id": "0c77fdd1",
   "metadata": {},
   "source": [
    "**Sanity check:**"
   ]
  },
  {
   "cell_type": "code",
   "execution_count": 2,
   "id": "8f615071",
   "metadata": {
    "collapsed": false
   },
   "outputs": [
    {
     "data": {
      "text/plain": [
       "True"
      ]
     },
     "execution_count": 2,
     "metadata": {},
     "output_type": "execute_result"
    }
   ],
   "source": [
    "A = [2, 5, 10, 3, 4]\n",
    "build_max_heap(A)\n",
    "A == [10, 5, 2, 3, 4]"
   ]
  }
 ],
 "metadata": {},
 "nbformat": 4,
 "nbformat_minor": 5
}
